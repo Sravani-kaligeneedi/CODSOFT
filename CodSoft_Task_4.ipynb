{
 "cells": [
  {
   "cell_type": "markdown",
   "id": "dc13a650",
   "metadata": {},
   "source": [
    "# Linear Regression and Random Forest"
   ]
  },
  {
   "cell_type": "code",
   "execution_count": 1,
   "id": "b8b95df7",
   "metadata": {},
   "outputs": [
    {
     "name": "stdout",
     "output_type": "stream",
     "text": [
      "      TV  Radio  Newspaper  Sales\n",
      "0  230.1   37.8       69.2   22.1\n",
      "1   44.5   39.3       45.1   10.4\n",
      "2   17.2   45.9       69.3   12.0\n",
      "3  151.5   41.3       58.5   16.5\n",
      "4  180.8   10.8       58.4   17.9\n",
      "Linear Regression Results:\n",
      "Mean Absolute Error: 1.2748262109549349\n",
      "Mean Squared Error: 2.9077569102710923\n",
      "R^2 Score: 0.9059011844150826\n",
      "\n",
      "Random Forest Regression Results:\n",
      "Mean Absolute Error: 0.9171499999999992\n",
      "Mean Squared Error: 1.4368395500000006\n",
      "R^2 Score: 0.9535019934565436\n"
     ]
    }
   ],
   "source": [
    "import pandas as pd\n",
    "from sklearn.model_selection import train_test_split\n",
    "from sklearn.preprocessing import StandardScaler\n",
    "from sklearn.linear_model import LinearRegression\n",
    "from sklearn.ensemble import RandomForestRegressor\n",
    "from sklearn.metrics import mean_absolute_error, mean_squared_error, r2_score\n",
    "\n",
    "# Load the dataset\n",
    "file_path = r\"S:\\Codsoft\\advertising.csv\"\n",
    "advertising_data = pd.read_csv(file_path)\n",
    "\n",
    "# Display the first few rows of the dataset\n",
    "print(advertising_data.head())\n",
    "\n",
    "# Splitting the data into features and target variable\n",
    "X = advertising_data.drop('Sales', axis=1)\n",
    "y = advertising_data['Sales']\n",
    "\n",
    "# Splitting the data into training and testing sets\n",
    "X_train, X_test, y_train, y_test = train_test_split(X, y, test_size=0.2, random_state=42)\n",
    "\n",
    "# Standardizing the features\n",
    "scaler = StandardScaler()\n",
    "X_train = scaler.fit_transform(X_train)\n",
    "X_test = scaler.transform(X_test)\n",
    "\n",
    "# Initializing the Linear Regression model\n",
    "lin_reg = LinearRegression()\n",
    "\n",
    "# Training the Linear Regression model\n",
    "lin_reg.fit(X_train, y_train)\n",
    "\n",
    "# Making predictions with Linear Regression\n",
    "y_pred_lin = lin_reg.predict(X_test)\n",
    "\n",
    "# Evaluating the Linear Regression model\n",
    "mae_lin = mean_absolute_error(y_test, y_pred_lin)\n",
    "mse_lin = mean_squared_error(y_test, y_pred_lin)\n",
    "r2_lin = r2_score(y_test, y_pred_lin)\n",
    "\n",
    "print(\"Linear Regression Results:\")\n",
    "print(f'Mean Absolute Error: {mae_lin}')\n",
    "print(f'Mean Squared Error: {mse_lin}')\n",
    "print(f'R^2 Score: {r2_lin}\\n')\n",
    "\n",
    "# Initializing the Random Forest Regression model\n",
    "rf_reg = RandomForestRegressor(random_state=42)\n",
    "\n",
    "# Training the Random Forest Regression model\n",
    "rf_reg.fit(X_train, y_train)\n",
    "\n",
    "# Making predictions with Random Forest Regression\n",
    "y_pred_rf = rf_reg.predict(X_test)\n",
    "\n",
    "# Evaluating the Random Forest Regression model\n",
    "mae_rf = mean_absolute_error(y_test, y_pred_rf)\n",
    "mse_rf = mean_squared_error(y_test, y_pred_rf)\n",
    "r2_rf = r2_score(y_test, y_pred_rf)\n",
    "\n",
    "print(\"Random Forest Regression Results:\")\n",
    "print(f'Mean Absolute Error: {mae_rf}')\n",
    "print(f'Mean Squared Error: {mse_rf}')\n",
    "print(f'R^2 Score: {r2_rf}')\n"
   ]
  },
  {
   "cell_type": "code",
   "execution_count": null,
   "id": "a5e4690f",
   "metadata": {},
   "outputs": [],
   "source": []
  }
 ],
 "metadata": {
  "kernelspec": {
   "display_name": "Python 3 (ipykernel)",
   "language": "python",
   "name": "python3"
  },
  "language_info": {
   "codemirror_mode": {
    "name": "ipython",
    "version": 3
   },
   "file_extension": ".py",
   "mimetype": "text/x-python",
   "name": "python",
   "nbconvert_exporter": "python",
   "pygments_lexer": "ipython3",
   "version": "3.10.13"
  }
 },
 "nbformat": 4,
 "nbformat_minor": 5
}
